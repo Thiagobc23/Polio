{
 "cells": [
  {
   "cell_type": "code",
   "execution_count": 1,
   "metadata": {},
   "outputs": [],
   "source": [
    "import pandas as pd\n",
    "import numpy as np\n",
    "import matplotlib\n",
    "import matplotlib.pyplot as plt\n",
    "from matplotlib.patches import Patch\n",
    "import geopandas\n",
    "\n",
    "world = geopandas.read_file(geopandas.datasets.get_path('naturalearth_lowres'))\n",
    "df = pd.read_csv('polio.csv')    # http://polioeradication.org/where-we-work/polio-free-countries/"
   ]
  },
  {
   "cell_type": "code",
   "execution_count": 2,
   "metadata": {},
   "outputs": [],
   "source": [
    "dic = {'Bosnia and Herzegovina':'Bosnia and Herz.', \n",
    "       'Brunei Darussalam':'Brunei', \n",
    "       'Central African Republic':'Central African Rep.',\n",
    "       \"Cote d’Ivoire\":\"Côte d'Ivoire\",\n",
    "       'Democratic Republic of the Congo':'Dem. Rep. Congo',\n",
    "       'Czech Republic':'Czech Rep.',\n",
    "       'Dominican Republic':'Dominican Rep.',\n",
    "       'Equatorial Guinea':'Eq. Guinea',\n",
    "       'Democratic People’s Rep. of Korea':'Dem. Rep. Korea',\n",
    "       'Republic of Korea':'Korea',\n",
    "       'Lao People’s Democratic Republic':'Lao PDR',\n",
    "       'Libyan Arab Jamahiriya':'Libya',\n",
    "       'Maldives':'Falkland Is.',\n",
    "       'Former Yugoslav Rep. of Macedonia':'Macedonia',\n",
    "       'Republic of Moldova':'Moldova',\n",
    "       'Palestine N.A.':'Palestine',\n",
    "       'Russian Federation':'Russia',\n",
    "       'Syrian Arab Republic':'Syria',\n",
    "       'Solomon Islands':'Solomon Is.',\n",
    "       'United Republic of Tanzania':'Tanzania',\n",
    "       'United States of America':'United States',\n",
    "       'Venezuala':'Venezuela',\n",
    "       'Viet Nam':'Vietnam',\n",
    "       'East Timor':'Timor-Leste',\n",
    "       \n",
    "      }\n",
    "for key, value in dic.items():\n",
    "    i = df[df['Country']==key].Country.index\n",
    "    df.at[i,'Country'] = value"
   ]
  },
  {
   "cell_type": "code",
   "execution_count": 3,
   "metadata": {},
   "outputs": [
    {
     "data": {
      "text/html": [
       "<div>\n",
       "<style scoped>\n",
       "    .dataframe tbody tr th:only-of-type {\n",
       "        vertical-align: middle;\n",
       "    }\n",
       "\n",
       "    .dataframe tbody tr th {\n",
       "        vertical-align: top;\n",
       "    }\n",
       "\n",
       "    .dataframe thead th {\n",
       "        text-align: right;\n",
       "    }\n",
       "</style>\n",
       "<table border=\"1\" class=\"dataframe\">\n",
       "  <thead>\n",
       "    <tr style=\"text-align: right;\">\n",
       "      <th></th>\n",
       "      <th>Year</th>\n",
       "    </tr>\n",
       "  </thead>\n",
       "  <tbody>\n",
       "    <tr>\n",
       "      <th>S. Sudan</th>\n",
       "      <td>2004</td>\n",
       "    </tr>\n",
       "    <tr>\n",
       "      <th>Somaliland</th>\n",
       "      <td>2002</td>\n",
       "    </tr>\n",
       "    <tr>\n",
       "      <th>Kosovo</th>\n",
       "      <td>1993</td>\n",
       "    </tr>\n",
       "    <tr>\n",
       "      <th>Serbia</th>\n",
       "      <td>1993</td>\n",
       "    </tr>\n",
       "    <tr>\n",
       "      <th>Montenegro</th>\n",
       "      <td>1993</td>\n",
       "    </tr>\n",
       "    <tr>\n",
       "      <th>N. Cyprus</th>\n",
       "      <td>1995</td>\n",
       "    </tr>\n",
       "    <tr>\n",
       "      <th>Greenland</th>\n",
       "      <td>1976</td>\n",
       "    </tr>\n",
       "    <tr>\n",
       "      <th>W. Sahara</th>\n",
       "      <td>data not available</td>\n",
       "    </tr>\n",
       "    <tr>\n",
       "      <th>Taiwan</th>\n",
       "      <td>2000</td>\n",
       "    </tr>\n",
       "  </tbody>\n",
       "</table>\n",
       "</div>"
      ],
      "text/plain": [
       "                          Year\n",
       "S. Sudan                  2004\n",
       "Somaliland                2002\n",
       "Kosovo                    1993\n",
       "Serbia                    1993\n",
       "Montenegro                1993\n",
       "N. Cyprus                 1995\n",
       "Greenland                 1976\n",
       "W. Sahara   data not available\n",
       "Taiwan                    2000"
      ]
     },
     "execution_count": 3,
     "metadata": {},
     "output_type": "execute_result"
    }
   ],
   "source": [
    "# Add territories that were listed as one \n",
    "\n",
    "# Kosovo, Serbia and Montenegro were not listed in WHO list. \n",
    "# Since they are considered polio free but there is no record of date, I'll consider it's the same as Macedonia (1993)\n",
    "# Croatia is in the same region and got polio free by 1990, I think this should be close to the date of it's neighboors\n",
    "\n",
    "dic = { 'S. Sudan' : 'Sudan',\n",
    "        'Somaliland' : 'Somalia',\n",
    "        'Kosovo' : 'Macedonia',    \n",
    "        'Serbia' : 'Macedonia',\n",
    "        'Montenegro' : 'Macedonia',\n",
    "        'N. Cyprus' : 'Cyprus',\n",
    "        'Greenland' : 'Denmark'}\n",
    "\n",
    "for key, value in dic.items():\n",
    "    dic[key] = int(df[df['Country'] == value]['Year'].values[:1])\n",
    "    \n",
    "# Add values that wasn't listed\n",
    "\n",
    "# W. Sahara - I couldn't find information about Western Sahara \n",
    "# I could use information from Morroco, but prefered to leave it as unavailable\n",
    "\n",
    "# Taiwan - https://www.mohw.gov.tw/cp-116-256-2.html\n",
    "new_dic = {'W. Sahara':'data not available', 'Taiwan':2000}\n",
    "dic.update(new_dic)\n",
    "\n",
    "# create df from dicts\n",
    "df_extenssion = pd.DataFrame.from_dict(dic, orient = 'index', columns = ['Year'])\n",
    "df_extenssion"
   ]
  },
  {
   "cell_type": "code",
   "execution_count": 4,
   "metadata": {},
   "outputs": [],
   "source": [
    "# set df index to country column and append new values to df\n",
    "df = df.set_index('Country')\n",
    "df = df.append(df_extenssion)"
   ]
  },
  {
   "cell_type": "code",
   "execution_count": 5,
   "metadata": {},
   "outputs": [],
   "source": [
    "# Check values in map and not in the data\n",
    "\n",
    "#for i, row in world.iterrows():\n",
    "#    if row['name'] not in df.index:\n",
    "#        print(row['name'])"
   ]
  },
  {
   "cell_type": "code",
   "execution_count": 6,
   "metadata": {},
   "outputs": [],
   "source": [
    "# Check values in the data and not in maps\n",
    "\n",
    "#for i, row in df.iterrows():\n",
    "#    if row.Country not in world.name.values:\n",
    "#        print(row.Country)"
   ]
  },
  {
   "cell_type": "code",
   "execution_count": 7,
   "metadata": {},
   "outputs": [],
   "source": [
    "# I'll loop the years and display the countries that were already considered polio-free by those years\n",
    "# So I used an unreacheable year for the countries with status 'ongoing'\n",
    "# and set the unavailable data to None \n",
    "for i, row in df.iterrows():\n",
    "    if(row.Year == 'data not available'):\n",
    "        row.Year = None\n",
    "    elif(row.Year == 'ongoing'):\n",
    "        row.Year = 9999"
   ]
  },
  {
   "cell_type": "code",
   "execution_count": 8,
   "metadata": {},
   "outputs": [],
   "source": [
    "# Fix df for plotting\n",
    "df = pd.to_numeric(df['Year']) # build series with year values as numeric\n",
    "df = pd.DataFrame(df) # rebuild df from series\n",
    "df.dropna(inplace = True) # drop the 'data not available' countries\n",
    "df.reset_index(inplace = True) # reset index\n",
    "df.columns = ['Country', 'Year'] # set column names"
   ]
  },
  {
   "cell_type": "code",
   "execution_count": 9,
   "metadata": {},
   "outputs": [],
   "source": [
    "# define a function that return a copy of the dataframe with records that with a year lower than the passed\n",
    "def get_df(df, year):\n",
    "    df_year = df[df['Year'] <= year].copy()\n",
    "    return df_year"
   ]
  },
  {
   "cell_type": "code",
   "execution_count": 11,
   "metadata": {},
   "outputs": [],
   "source": [
    "# get all countries with a numeric year and merge with the world map\n",
    "all_data = world.merge(get_df(df, 9999), how='left', left_on = 'name', right_on = 'Country')\n",
    "# build a custom colormap\n",
    "cmap = matplotlib.colors.LinearSegmentedColormap.from_list(\"\", [\"#edf8b1\",\"#6DC661\"])\n",
    "# build separate legend handlers\n",
    "legend_elements = [Patch(facecolor='#6DC661', edgecolor='grey', label='Color Patch'),\n",
    "                  Patch(facecolor='#edf8b1', edgecolor='grey', label='Color Patch')]\n",
    "\n",
    "years = np.arange(1970,2019)\n",
    "# Plot maps \n",
    "for year in years:\n",
    "    # merge world map with filtered df into a new dataframe\n",
    "    temp = world.merge(get_df(df, year), how='left', left_on = 'name', right_on = 'Country')\n",
    "    \n",
    "    fig, ax = plt.subplots(1, figsize = (40, 24))\n",
    "    fig.patch.set_facecolor('#BAE3FF')\n",
    "    # plot colormap\n",
    "    temp.plot(column='Year', cmap=cmap, vmin=-1, vmax=1, ax = ax, edgecolor = '0.3')\n",
    "    # plot unlisted countries above\n",
    "    all_data[all_data['Year'].isna()].plot(color = 'white', ax = ax, edgecolor = '0.3')\n",
    "    \n",
    "    # remove axis and plot title\n",
    "    ax.axis('off')\n",
    "    plt.title('POLIO-FREE COUNTRIES\\n' + str(year), fontsize=32)\n",
    "    # plot info on the bottom\n",
    "    info = 'Data from last recorded case of indigenous wild poliovirus (WPV)\\nsource: Global Polio Eradication Initiative'\n",
    "    plt.text(0,-110, info, ha = 'center', fontsize = 16)\n",
    "    # plot legend\n",
    "    ax.legend(handles=legend_elements,labels = ['Polio-Free', 'Ongoing'], loc='center', \n",
    "          fontsize = 20, bbox_to_anchor=(0.5, 0), ncol=4)\n",
    "    \n",
    "    # Save pic and close plot\n",
    "    plt.savefig(str(year) + '.png', facecolor=fig.get_facecolor(), edgecolor='none')\n",
    "    plt.close()\n",
    "    #plt.show()"
   ]
  },
  {
   "cell_type": "code",
   "execution_count": 12,
   "metadata": {},
   "outputs": [
    {
     "name": "stdout",
     "output_type": "stream",
     "text": [
      "pygame 1.9.6\n",
      "Hello from the pygame community. https://www.pygame.org/contribute.html\n",
      "Moviepy - Building video myvideo.mp4.\n",
      "Moviepy - Writing video myvideo.mp4\n",
      "\n"
     ]
    },
    {
     "name": "stderr",
     "output_type": "stream",
     "text": [
      "                                                                                                                       \r"
     ]
    },
    {
     "name": "stdout",
     "output_type": "stream",
     "text": [
      "Moviepy - Done !\n",
      "Moviepy - video ready myvideo.mp4\n"
     ]
    }
   ],
   "source": [
    "# build video\n",
    "import moviepy.editor as mp\n",
    "\n",
    "clip_list = [str(i) + '.png' for i in years]\n",
    "clip = mp.ImageSequenceClip(clip_list, fps=2)\n",
    "clip.write_videofile(\"myvideo.mp4\")"
   ]
  },
  {
   "cell_type": "code",
   "execution_count": null,
   "metadata": {},
   "outputs": [],
   "source": []
  }
 ],
 "metadata": {
  "kernelspec": {
   "display_name": "Python 3",
   "language": "python",
   "name": "python3"
  },
  "language_info": {
   "codemirror_mode": {
    "name": "ipython",
    "version": 3
   },
   "file_extension": ".py",
   "mimetype": "text/x-python",
   "name": "python",
   "nbconvert_exporter": "python",
   "pygments_lexer": "ipython3",
   "version": "3.7.3"
  }
 },
 "nbformat": 4,
 "nbformat_minor": 2
}
